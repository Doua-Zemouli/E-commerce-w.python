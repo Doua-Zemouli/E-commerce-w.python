{
 "cells": [
  {
   "cell_type": "code",
   "execution_count": 3,
   "id": "d8f7b4ef-e071-4ade-b65f-e83d8002cd8c",
   "metadata": {},
   "outputs": [],
   "source": [
    "import pandas as pd"
   ]
  },
  {
   "cell_type": "code",
   "execution_count": 5,
   "id": "092742da-5171-48ab-a44b-f823bfff659b",
   "metadata": {},
   "outputs": [],
   "source": [
    "#Loading the csv file and creating a data frame\n",
    "data = pd.read_csv('/home/dell/Téléchargements/Data/jnotebook/Ecommerce Purchases')"
   ]
  },
  {
   "cell_type": "code",
   "execution_count": 7,
   "id": "6b2ea5e8-3cca-4ef3-a1c8-436d4cbb6c83",
   "metadata": {},
   "outputs": [
    {
     "data": {
      "text/html": [
       "<div>\n",
       "<style scoped>\n",
       "    .dataframe tbody tr th:only-of-type {\n",
       "        vertical-align: middle;\n",
       "    }\n",
       "\n",
       "    .dataframe tbody tr th {\n",
       "        vertical-align: top;\n",
       "    }\n",
       "\n",
       "    .dataframe thead th {\n",
       "        text-align: right;\n",
       "    }\n",
       "</style>\n",
       "<table border=\"1\" class=\"dataframe\">\n",
       "  <thead>\n",
       "    <tr style=\"text-align: right;\">\n",
       "      <th></th>\n",
       "      <th>Address</th>\n",
       "      <th>Lot</th>\n",
       "      <th>AM or PM</th>\n",
       "      <th>Browser Info</th>\n",
       "      <th>Company</th>\n",
       "      <th>Credit Card</th>\n",
       "      <th>CC Exp Date</th>\n",
       "      <th>CC Security Code</th>\n",
       "      <th>CC Provider</th>\n",
       "      <th>Email</th>\n",
       "      <th>Job</th>\n",
       "      <th>IP Address</th>\n",
       "      <th>Language</th>\n",
       "      <th>Purchase Price</th>\n",
       "    </tr>\n",
       "  </thead>\n",
       "  <tbody>\n",
       "    <tr>\n",
       "      <th>0</th>\n",
       "      <td>16629 Pace Camp Apt. 448\\nAlexisborough, NE 77...</td>\n",
       "      <td>46 in</td>\n",
       "      <td>PM</td>\n",
       "      <td>Opera/9.56.(X11; Linux x86_64; sl-SI) Presto/2...</td>\n",
       "      <td>Martinez-Herman</td>\n",
       "      <td>6011929061123406</td>\n",
       "      <td>02/20</td>\n",
       "      <td>900</td>\n",
       "      <td>JCB 16 digit</td>\n",
       "      <td>pdunlap@yahoo.com</td>\n",
       "      <td>Scientist, product/process development</td>\n",
       "      <td>149.146.147.205</td>\n",
       "      <td>el</td>\n",
       "      <td>98.14</td>\n",
       "    </tr>\n",
       "    <tr>\n",
       "      <th>1</th>\n",
       "      <td>9374 Jasmine Spurs Suite 508\\nSouth John, TN 8...</td>\n",
       "      <td>28 rn</td>\n",
       "      <td>PM</td>\n",
       "      <td>Opera/8.93.(Windows 98; Win 9x 4.90; en-US) Pr...</td>\n",
       "      <td>Fletcher, Richards and Whitaker</td>\n",
       "      <td>3337758169645356</td>\n",
       "      <td>11/18</td>\n",
       "      <td>561</td>\n",
       "      <td>Mastercard</td>\n",
       "      <td>anthony41@reed.com</td>\n",
       "      <td>Drilling engineer</td>\n",
       "      <td>15.160.41.51</td>\n",
       "      <td>fr</td>\n",
       "      <td>70.73</td>\n",
       "    </tr>\n",
       "    <tr>\n",
       "      <th>2</th>\n",
       "      <td>Unit 0065 Box 5052\\nDPO AP 27450</td>\n",
       "      <td>94 vE</td>\n",
       "      <td>PM</td>\n",
       "      <td>Mozilla/5.0 (compatible; MSIE 9.0; Windows NT ...</td>\n",
       "      <td>Simpson, Williams and Pham</td>\n",
       "      <td>675957666125</td>\n",
       "      <td>08/19</td>\n",
       "      <td>699</td>\n",
       "      <td>JCB 16 digit</td>\n",
       "      <td>amymiller@morales-harrison.com</td>\n",
       "      <td>Customer service manager</td>\n",
       "      <td>132.207.160.22</td>\n",
       "      <td>de</td>\n",
       "      <td>0.95</td>\n",
       "    </tr>\n",
       "    <tr>\n",
       "      <th>3</th>\n",
       "      <td>7780 Julia Fords\\nNew Stacy, WA 45798</td>\n",
       "      <td>36 vm</td>\n",
       "      <td>PM</td>\n",
       "      <td>Mozilla/5.0 (Macintosh; Intel Mac OS X 10_8_0 ...</td>\n",
       "      <td>Williams, Marshall and Buchanan</td>\n",
       "      <td>6011578504430710</td>\n",
       "      <td>02/24</td>\n",
       "      <td>384</td>\n",
       "      <td>Discover</td>\n",
       "      <td>brent16@olson-robinson.info</td>\n",
       "      <td>Drilling engineer</td>\n",
       "      <td>30.250.74.19</td>\n",
       "      <td>es</td>\n",
       "      <td>78.04</td>\n",
       "    </tr>\n",
       "    <tr>\n",
       "      <th>4</th>\n",
       "      <td>23012 Munoz Drive Suite 337\\nNew Cynthia, TX 5...</td>\n",
       "      <td>20 IE</td>\n",
       "      <td>AM</td>\n",
       "      <td>Opera/9.58.(X11; Linux x86_64; it-IT) Presto/2...</td>\n",
       "      <td>Brown, Watson and Andrews</td>\n",
       "      <td>6011456623207998</td>\n",
       "      <td>10/25</td>\n",
       "      <td>678</td>\n",
       "      <td>Diners Club / Carte Blanche</td>\n",
       "      <td>christopherwright@gmail.com</td>\n",
       "      <td>Fine artist</td>\n",
       "      <td>24.140.33.94</td>\n",
       "      <td>es</td>\n",
       "      <td>77.82</td>\n",
       "    </tr>\n",
       "  </tbody>\n",
       "</table>\n",
       "</div>"
      ],
      "text/plain": [
       "                                             Address    Lot AM or PM  \\\n",
       "0  16629 Pace Camp Apt. 448\\nAlexisborough, NE 77...  46 in       PM   \n",
       "1  9374 Jasmine Spurs Suite 508\\nSouth John, TN 8...  28 rn       PM   \n",
       "2                   Unit 0065 Box 5052\\nDPO AP 27450  94 vE       PM   \n",
       "3              7780 Julia Fords\\nNew Stacy, WA 45798  36 vm       PM   \n",
       "4  23012 Munoz Drive Suite 337\\nNew Cynthia, TX 5...  20 IE       AM   \n",
       "\n",
       "                                        Browser Info  \\\n",
       "0  Opera/9.56.(X11; Linux x86_64; sl-SI) Presto/2...   \n",
       "1  Opera/8.93.(Windows 98; Win 9x 4.90; en-US) Pr...   \n",
       "2  Mozilla/5.0 (compatible; MSIE 9.0; Windows NT ...   \n",
       "3  Mozilla/5.0 (Macintosh; Intel Mac OS X 10_8_0 ...   \n",
       "4  Opera/9.58.(X11; Linux x86_64; it-IT) Presto/2...   \n",
       "\n",
       "                           Company       Credit Card CC Exp Date  \\\n",
       "0                  Martinez-Herman  6011929061123406       02/20   \n",
       "1  Fletcher, Richards and Whitaker  3337758169645356       11/18   \n",
       "2       Simpson, Williams and Pham      675957666125       08/19   \n",
       "3  Williams, Marshall and Buchanan  6011578504430710       02/24   \n",
       "4        Brown, Watson and Andrews  6011456623207998       10/25   \n",
       "\n",
       "   CC Security Code                  CC Provider  \\\n",
       "0               900                 JCB 16 digit   \n",
       "1               561                   Mastercard   \n",
       "2               699                 JCB 16 digit   \n",
       "3               384                     Discover   \n",
       "4               678  Diners Club / Carte Blanche   \n",
       "\n",
       "                            Email                                     Job  \\\n",
       "0               pdunlap@yahoo.com  Scientist, product/process development   \n",
       "1              anthony41@reed.com                       Drilling engineer   \n",
       "2  amymiller@morales-harrison.com                Customer service manager   \n",
       "3     brent16@olson-robinson.info                       Drilling engineer   \n",
       "4     christopherwright@gmail.com                             Fine artist   \n",
       "\n",
       "        IP Address Language  Purchase Price  \n",
       "0  149.146.147.205       el           98.14  \n",
       "1     15.160.41.51       fr           70.73  \n",
       "2   132.207.160.22       de            0.95  \n",
       "3     30.250.74.19       es           78.04  \n",
       "4     24.140.33.94       es           77.82  "
      ]
     },
     "execution_count": 7,
     "metadata": {},
     "output_type": "execute_result"
    }
   ],
   "source": [
    "#Show the first rows of the data\n",
    "data.head()"
   ]
  },
  {
   "cell_type": "code",
   "execution_count": 9,
   "id": "5bf05892-7a14-4765-911f-6ba0a88e8225",
   "metadata": {},
   "outputs": [
    {
     "data": {
      "text/plain": [
       "Address              object\n",
       "Lot                  object\n",
       "AM or PM             object\n",
       "Browser Info         object\n",
       "Company              object\n",
       "Credit Card           int64\n",
       "CC Exp Date          object\n",
       "CC Security Code      int64\n",
       "CC Provider          object\n",
       "Email                object\n",
       "Job                  object\n",
       "IP Address           object\n",
       "Language             object\n",
       "Purchase Price      float64\n",
       "dtype: object"
      ]
     },
     "execution_count": 9,
     "metadata": {},
     "output_type": "execute_result"
    }
   ],
   "source": [
    "#Checking the data types\n",
    "data.dtypes"
   ]
  },
  {
   "cell_type": "code",
   "execution_count": 9,
   "id": "7ce63c73-1582-470f-8403-47f465037513",
   "metadata": {},
   "outputs": [
    {
     "data": {
      "text/plain": [
       "Address             0\n",
       "Lot                 0\n",
       "AM or PM            0\n",
       "Browser Info        0\n",
       "Company             0\n",
       "Credit Card         0\n",
       "CC Exp Date         0\n",
       "CC Security Code    0\n",
       "CC Provider         0\n",
       "Email               0\n",
       "Job                 0\n",
       "IP Address          0\n",
       "Language            0\n",
       "Purchase Price      0\n",
       "dtype: int64"
      ]
     },
     "execution_count": 9,
     "metadata": {},
     "output_type": "execute_result"
    }
   ],
   "source": [
    "#Checking null values in the data set \n",
    "data.isnull().sum()"
   ]
  },
  {
   "cell_type": "code",
   "execution_count": 11,
   "id": "a4680280-4188-4fc1-af8e-2af1cc107d6e",
   "metadata": {},
   "outputs": [
    {
     "data": {
      "text/plain": [
       "14"
      ]
     },
     "execution_count": 11,
     "metadata": {},
     "output_type": "execute_result"
    }
   ],
   "source": [
    "#Showing the columns to check the syntax (the result is a python list)\n",
    "data.columns\n",
    "#How many columns there is\n",
    "len(data.columns)"
   ]
  },
  {
   "cell_type": "code",
   "execution_count": 13,
   "id": "a7dfe792-a488-4f97-bb76-604a4860476e",
   "metadata": {},
   "outputs": [
    {
     "data": {
      "text/plain": [
       "10000"
      ]
     },
     "execution_count": 13,
     "metadata": {},
     "output_type": "execute_result"
    }
   ],
   "source": [
    "#Showing rows and how many there are\n",
    "data\n",
    "len(data)"
   ]
  },
  {
   "cell_type": "code",
   "execution_count": 15,
   "id": "85f64624-2e7c-488e-9619-cc14f642bd11",
   "metadata": {},
   "outputs": [
    {
     "name": "stdout",
     "output_type": "stream",
     "text": [
      "<class 'pandas.core.frame.DataFrame'>\n",
      "RangeIndex: 10000 entries, 0 to 9999\n",
      "Data columns (total 14 columns):\n",
      " #   Column            Non-Null Count  Dtype  \n",
      "---  ------            --------------  -----  \n",
      " 0   Address           10000 non-null  object \n",
      " 1   Lot               10000 non-null  object \n",
      " 2   AM or PM          10000 non-null  object \n",
      " 3   Browser Info      10000 non-null  object \n",
      " 4   Company           10000 non-null  object \n",
      " 5   Credit Card       10000 non-null  int64  \n",
      " 6   CC Exp Date       10000 non-null  object \n",
      " 7   CC Security Code  10000 non-null  int64  \n",
      " 8   CC Provider       10000 non-null  object \n",
      " 9   Email             10000 non-null  object \n",
      " 10  Job               10000 non-null  object \n",
      " 11  IP Address        10000 non-null  object \n",
      " 12  Language          10000 non-null  object \n",
      " 13  Purchase Price    10000 non-null  float64\n",
      "dtypes: float64(1), int64(2), object(11)\n",
      "memory usage: 1.1+ MB\n"
     ]
    }
   ],
   "source": [
    "#Or more generally speaking, to get both and more\n",
    "data.info()"
   ]
  },
  {
   "cell_type": "code",
   "execution_count": 19,
   "id": "b4b638ae-205b-42c5-881a-e6ea1d8b81e8",
   "metadata": {},
   "outputs": [
    {
     "data": {
      "text/plain": [
       "99.99"
      ]
     },
     "execution_count": 19,
     "metadata": {},
     "output_type": "execute_result"
    }
   ],
   "source": [
    "#Finding highest purchased price\n",
    "data['Purchase Price'].max()"
   ]
  },
  {
   "cell_type": "code",
   "execution_count": 21,
   "id": "65248a8a-d7b2-4ee9-bcc8-26f232049b87",
   "metadata": {},
   "outputs": [
    {
     "data": {
      "text/plain": [
       "0.0"
      ]
     },
     "execution_count": 21,
     "metadata": {},
     "output_type": "execute_result"
    }
   ],
   "source": [
    "#Finding lowest purchased price\n",
    "data['Purchase Price'].min()"
   ]
  },
  {
   "cell_type": "code",
   "execution_count": 23,
   "id": "a87cd663-c8de-4143-ae6a-68e0cb0c252e",
   "metadata": {},
   "outputs": [
    {
     "data": {
      "text/plain": [
       "50.347302"
      ]
     },
     "execution_count": 23,
     "metadata": {},
     "output_type": "execute_result"
    }
   ],
   "source": [
    "#Finding average purchased price\n",
    "data['Purchase Price'].mean()"
   ]
  },
  {
   "cell_type": "code",
   "execution_count": 43,
   "id": "7bda2a11-a52a-4f59-b91c-1423b77991d3",
   "metadata": {},
   "outputs": [
    {
     "data": {
      "text/plain": [
       "1097"
      ]
     },
     "execution_count": 43,
     "metadata": {},
     "output_type": "execute_result"
    }
   ],
   "source": [
    "#How many people have 'fr' as their language ('fr' meaning french)\n",
    "len(data[data['Language'] == 'fr'])"
   ]
  },
  {
   "cell_type": "code",
   "execution_count": 27,
   "id": "27cee1d8-bb1e-4f42-a801-9f5f3265909b",
   "metadata": {},
   "outputs": [
    {
     "data": {
      "text/plain": [
       "Address             1097\n",
       "Lot                 1097\n",
       "AM or PM            1097\n",
       "Browser Info        1097\n",
       "Company             1097\n",
       "Credit Card         1097\n",
       "CC Exp Date         1097\n",
       "CC Security Code    1097\n",
       "CC Provider         1097\n",
       "Email               1097\n",
       "Job                 1097\n",
       "IP Address          1097\n",
       "Language            1097\n",
       "Purchase Price      1097\n",
       "dtype: int64"
      ]
     },
     "execution_count": 27,
     "metadata": {},
     "output_type": "execute_result"
    }
   ],
   "source": [
    "#Here is another way of doing the same thing, using the count method\n",
    "data[data['Language'] == 'fr'].count()"
   ]
  },
  {
   "cell_type": "code",
   "execution_count": 31,
   "id": "99d5dfaa-af28-462b-8ec3-8a26be2eb839",
   "metadata": {},
   "outputs": [
    {
     "data": {
      "text/plain": [
       "0       Scientist, product/process development\n",
       "1                            Drilling engineer\n",
       "2                     Customer service manager\n",
       "3                            Drilling engineer\n",
       "4                                  Fine artist\n",
       "                         ...                  \n",
       "9995                                Printmaker\n",
       "9996                           Energy engineer\n",
       "9997                        Veterinary surgeon\n",
       "9998                  Local government officer\n",
       "9999                    Embryologist, clinical\n",
       "Name: Job, Length: 10000, dtype: object"
      ]
     },
     "execution_count": 31,
     "metadata": {},
     "output_type": "execute_result"
    }
   ],
   "source": [
    "#Checking job titles syntax\n",
    "data['Job']"
   ]
  },
  {
   "cell_type": "code",
   "execution_count": 45,
   "id": "c3e709c8-082f-4412-b20c-a695aab4318f",
   "metadata": {},
   "outputs": [
    {
     "data": {
      "text/plain": [
       "984"
      ]
     },
     "execution_count": 45,
     "metadata": {},
     "output_type": "execute_result"
    }
   ],
   "source": [
    "#Finding how many people have Engineer in their job titles while making it case insensitive\n",
    "len(data[data['Job'].str.contains('engineer', case=False)])"
   ]
  },
  {
   "cell_type": "code",
   "execution_count": 55,
   "id": "f04e2555-e746-4d6c-b849-03442b3fdb91",
   "metadata": {},
   "outputs": [
    {
     "data": {
      "text/plain": [
       "2    amymiller@morales-harrison.com\n",
       "Name: Email, dtype: object"
      ]
     },
     "execution_count": 55,
     "metadata": {},
     "output_type": "execute_result"
    }
   ],
   "source": [
    "#Finding the Email of the person with the following IP address 132.207.160.22 \n",
    "data[data['IP Address'] == \"132.207.160.22\"]['Email']"
   ]
  },
  {
   "cell_type": "code",
   "execution_count": 67,
   "id": "16f7a62b-93d7-44e9-9c35-05fd4f981ac8",
   "metadata": {},
   "outputs": [
    {
     "data": {
      "text/plain": [
       "405"
      ]
     },
     "execution_count": 67,
     "metadata": {},
     "output_type": "execute_result"
    }
   ],
   "source": [
    "#How Many people have Mastercard as their credit card provider and made a purchase above 50\n",
    "len(data[(data['CC Provider'] == 'Mastercard' ) & (data['Purchase Price'] > 50)])"
   ]
  },
  {
   "cell_type": "code",
   "execution_count": 75,
   "id": "3323a046-ebc7-41ef-862b-a54ae4590788",
   "metadata": {},
   "outputs": [
    {
     "data": {
      "text/plain": [
       "9992    bberry@wright.net\n",
       "Name: Email, dtype: object"
      ]
     },
     "execution_count": 75,
     "metadata": {},
     "output_type": "execute_result"
    }
   ],
   "source": [
    "#Finding Email of the person with the following credit card number 4664825258997302\n",
    "data[data['Credit Card'] == 4664825258997302]['Email']"
   ]
  },
  {
   "cell_type": "code",
   "execution_count": 11,
   "id": "e9d1f703-0a80-4009-939e-3a36af8f931d",
   "metadata": {},
   "outputs": [
    {
     "data": {
      "text/plain": [
       "AM or PM\n",
       "PM    5068\n",
       "AM    4932\n",
       "Name: count, dtype: int64"
      ]
     },
     "execution_count": 11,
     "metadata": {},
     "output_type": "execute_result"
    }
   ],
   "source": [
    "#How many people purchase during the am and during the pm?\n",
    "data['AM or PM'].value_counts()"
   ]
  },
  {
   "cell_type": "code",
   "execution_count": 45,
   "id": "1776ea05-9b90-4828-aa2d-5e4ca592d8eb",
   "metadata": {},
   "outputs": [],
   "source": [
    "#How many people have a credit card that expires in 2020?      "
   ]
  },
  {
   "cell_type": "code",
   "execution_count": 35,
   "id": "8005f780-ec1b-4608-a721-5d00b67243a7",
   "metadata": {},
   "outputs": [],
   "source": [
    "#Methode 1: making our own regular function\n",
    "def expires():\n",
    "    i = 0\n",
    "    for date in data['CC Exp Date']:\n",
    "        if date.split('/')[1] == '20':\n",
    "            i = i+1\n",
    "    print('The number of people that have a credit card that expires in 2020 is:', i)  \n",
    "#note: split('/')[1] because after we split based on the slash [0] is the month (first part) and [1] is the year (the second part)"
   ]
  },
  {
   "cell_type": "code",
   "execution_count": 37,
   "id": "e1149963-1710-44b5-a14c-a725f779dd16",
   "metadata": {},
   "outputs": [
    {
     "name": "stdout",
     "output_type": "stream",
     "text": [
      "The number of people that have a credit card that expires in 2020 is: 988\n"
     ]
    }
   ],
   "source": [
    "#then call the function\n",
    "expires()"
   ]
  },
  {
   "cell_type": "code",
   "execution_count": 39,
   "id": "d177e749-854f-4a50-a002-e820d934a3d6",
   "metadata": {},
   "outputs": [
    {
     "data": {
      "text/plain": [
       "988"
      ]
     },
     "execution_count": 39,
     "metadata": {},
     "output_type": "execute_result"
    }
   ],
   "source": [
    "#Methode 2: lambda function\n",
    "len(data[data['CC Exp Date'].apply(lambda x:x[3:] == '20')])\n",
    "#note: x[3:] because if the date is 13/20 the x[0]=1, x[1]=3, x[2]=/ and so on.. so x[3:] would be 20 here"
   ]
  },
  {
   "cell_type": "code",
   "execution_count": 55,
   "id": "bb1790c5-d076-4d45-a720-2e203a628f87",
   "metadata": {},
   "outputs": [
    {
     "data": {
      "text/plain": [
       "Email\n",
       "hotmail.com     1638\n",
       "yahoo.com       1616\n",
       "gmail.com       1605\n",
       "smith.com         42\n",
       "williams.com      37\n",
       "Name: count, dtype: int64"
      ]
     },
     "execution_count": 55,
     "metadata": {},
     "output_type": "execute_result"
    }
   ],
   "source": [
    "#Finding the top 5 most popular email providers (e.g. gmail.com, ect...)\n",
    "data['Email'].apply(lambda x:x.split('@')[1]).value_counts().head()"
   ]
  },
  {
   "cell_type": "code",
   "execution_count": null,
   "id": "a3788e11-4a4b-49e9-8d79-05126cd0ad86",
   "metadata": {},
   "outputs": [],
   "source": []
  }
 ],
 "metadata": {
  "kernelspec": {
   "display_name": "Python [conda env:base] *",
   "language": "python",
   "name": "conda-base-py"
  },
  "language_info": {
   "codemirror_mode": {
    "name": "ipython",
    "version": 3
   },
   "file_extension": ".py",
   "mimetype": "text/x-python",
   "name": "python",
   "nbconvert_exporter": "python",
   "pygments_lexer": "ipython3",
   "version": "3.12.7"
  }
 },
 "nbformat": 4,
 "nbformat_minor": 5
}
