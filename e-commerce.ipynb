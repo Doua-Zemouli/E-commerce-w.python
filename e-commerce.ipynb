{
 "cells": [
  {
   "cell_type": "code",
   "execution_count": null,
   "id": "d8f7b4ef-e071-4ade-b65f-e83d8002cd8c",
   "metadata": {},
   "outputs": [],
   "source": [
    "import pandas as pd"
   ]
  },
  {
   "cell_type": "code",
   "execution_count": null,
   "id": "092742da-5171-48ab-a44b-f823bfff659b",
   "metadata": {},
   "outputs": [],
   "source": [
    "#Loading the csv file and creating a data frame\n",
    "data = pd.read_csv()"
   ]
  },
  {
   "cell_type": "code",
   "execution_count": null,
   "id": "6b2ea5e8-3cca-4ef3-a1c8-436d4cbb6c83",
   "metadata": {},
   "outputs": [],
   "source": [
    "#Show the first rows of the data\n",
    "data.head()"
   ]
  },
  {
   "cell_type": "code",
   "execution_count": null,
   "id": "5bf05892-7a14-4765-911f-6ba0a88e8225",
   "metadata": {},
   "outputs": [],
   "source": [
    "#\n",
    "data.dtypes"
   ]
  },
  {
   "cell_type": "code",
   "execution_count": null,
   "id": "7ce63c73-1582-470f-8403-47f465037513",
   "metadata": {},
   "outputs": [],
   "source": [
    "#Checking null values in the data set \n",
    "data.isnull().sum()"
   ]
  },
  {
   "cell_type": "code",
   "execution_count": null,
   "id": "a4680280-4188-4fc1-af8e-2af1cc107d6e",
   "metadata": {},
   "outputs": [],
   "source": [
    "#Showing the columns to check the syntax and the result is a python list\n",
    "data.columns\n",
    "#How many columns there is\n",
    "len(data.columns)"
   ]
  },
  {
   "cell_type": "code",
   "execution_count": null,
   "id": "a7dfe792-a488-4f97-bb76-604a4860476e",
   "metadata": {},
   "outputs": [],
   "source": [
    "#Showing rows and how many there are\n",
    "data\n",
    "len(data)"
   ]
  },
  {
   "cell_type": "code",
   "execution_count": null,
   "id": "85f64624-2e7c-488e-9619-cc14f642bd11",
   "metadata": {},
   "outputs": [],
   "source": [
    "#Or more generally speaking, to get both and more\n",
    "data.info()"
   ]
  },
  {
   "cell_type": "code",
   "execution_count": null,
   "id": "b4b638ae-205b-42c5-881a-e6ea1d8b81e8",
   "metadata": {},
   "outputs": [],
   "source": [
    "#Finding highest purchased price\n",
    "data['Purchase price'].max()"
   ]
  },
  {
   "cell_type": "code",
   "execution_count": null,
   "id": "65248a8a-d7b2-4ee9-bcc8-26f232049b87",
   "metadata": {},
   "outputs": [],
   "source": [
    "#Finding lowest purchased price\n",
    "data['Purchase price'].min()"
   ]
  },
  {
   "cell_type": "code",
   "execution_count": null,
   "id": "a87cd663-c8de-4143-ae6a-68e0cb0c252e",
   "metadata": {},
   "outputs": [],
   "source": [
    "#Finding average purchased price\n",
    "data['Purchase price'].mean()"
   ]
  },
  {
   "cell_type": "code",
   "execution_count": null,
   "id": "7bda2a11-a52a-4f59-b91c-1423b77991d3",
   "metadata": {},
   "outputs": [],
   "source": [
    "#\n"
   ]
  },
  {
   "cell_type": "code",
   "execution_count": null,
   "id": "27cee1d8-bb1e-4f42-a801-9f5f3265909b",
   "metadata": {},
   "outputs": [],
   "source": [
    "#\n"
   ]
  },
  {
   "cell_type": "code",
   "execution_count": null,
   "id": "99d5dfaa-af28-462b-8ec3-8a26be2eb839",
   "metadata": {},
   "outputs": [],
   "source": [
    "#\n"
   ]
  },
  {
   "cell_type": "code",
   "execution_count": null,
   "id": "d72ddf02-44e6-425b-8137-1e6b32896697",
   "metadata": {},
   "outputs": [],
   "source": []
  },
  {
   "cell_type": "code",
   "execution_count": null,
   "id": "51d9f423-f35e-41f1-9db6-db7a249f68ce",
   "metadata": {},
   "outputs": [],
   "source": []
  },
  {
   "cell_type": "code",
   "execution_count": null,
   "id": "989e25b2-0c77-4c56-9fde-8c89dfe794de",
   "metadata": {},
   "outputs": [],
   "source": []
  },
  {
   "cell_type": "code",
   "execution_count": null,
   "id": "ded7d795-1288-4567-96ca-590070b22c9e",
   "metadata": {},
   "outputs": [],
   "source": []
  },
  {
   "cell_type": "code",
   "execution_count": null,
   "id": "cd19ed98-b9b8-453b-9d18-b15c48fa944f",
   "metadata": {},
   "outputs": [],
   "source": []
  }
 ],
 "metadata": {
  "kernelspec": {
   "display_name": "Python [conda env:base] *",
   "language": "python",
   "name": "conda-base-py"
  },
  "language_info": {
   "codemirror_mode": {
    "name": "ipython",
    "version": 3
   },
   "file_extension": ".py",
   "mimetype": "text/x-python",
   "name": "python",
   "nbconvert_exporter": "python",
   "pygments_lexer": "ipython3",
   "version": "3.12.7"
  }
 },
 "nbformat": 4,
 "nbformat_minor": 5
}
